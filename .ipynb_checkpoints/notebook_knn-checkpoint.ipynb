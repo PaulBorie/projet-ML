{
 "cells": [
  {
   "cell_type": "markdown",
   "metadata": {},
   "source": [
    "# knn : k plus proche voisin"
   ]
  },
  {
   "cell_type": "code",
   "execution_count": null,
   "metadata": {},
   "outputs": [],
   "source": [
    "from keras.datasets import mnist\n",
    "import matplotlib.pyplot as plt\n",
    "import freeman\n",
    "import knn"
   ]
  },
  {
   "cell_type": "markdown",
   "metadata": {},
   "source": [
    "**On load le dataset MNIST qui comporte 70000 images au format 28*28 pixels.\n",
    "On divise le dataset avec 85 % des images pour les données d'entrainements et 15 pourcent des images pour les données de test**"
   ]
  },
  {
   "cell_type": "code",
   "execution_count": null,
   "metadata": {},
   "outputs": [],
   "source": [
    "(X_train, y_train), (X_test, y_test) = mnist.load_data()\n",
    "print(X_train.shape)\n",
    "print(X_test.shape)"
   ]
  },
  {
   "cell_type": "markdown",
   "metadata": {},
   "source": [
    "# 1) représentation matrice de pixel 0 et 1 pour les images et distance euclidienne"
   ]
  },
  {
   "cell_type": "markdown",
   "metadata": {},
   "source": [
    "**On convertit les images en matrices de pixels de valeurs 0 et 1**"
   ]
  },
  {
   "cell_type": "code",
   "execution_count": null,
   "metadata": {},
   "outputs": [],
   "source": [
    "x_train_binary = freeman.convert_binary(X_train)\n",
    "x_test_binary = freeman.convert_binary(X_test)"
   ]
  },
  {
   "cell_type": "code",
   "execution_count": null,
   "metadata": {},
   "outputs": [],
   "source": [
    "print(x_train_binary.shape)\n",
    "print(x_test_binary.shape)"
   ]
  },
  {
   "cell_type": "code",
   "execution_count": null,
   "metadata": {},
   "outputs": [],
   "source": [
    "print(x_train_binary[0])"
   ]
  },
  {
   "cell_type": "markdown",
   "metadata": {},
   "source": [
    "**on applatit chaque matrice de pixels sur une ligne ainsi chaque ligne de x_train_binary correspond à une image du dataset (28*28 = 784 pixels), les colonnes corresponent aux pixels et donc aux features dans le cas de l'algorithme naive bayes**"
   ]
  },
  {
   "cell_type": "code",
   "execution_count": null,
   "metadata": {},
   "outputs": [],
   "source": [
    "## Flatten binary pixel matrix \n",
    "x_train_binary = x_train_binary.reshape(60000, 784)\n",
    "x_test_binary = x_test_binary.reshape(10000, 784)\n",
    "print(x_train_binary.shape)\n",
    "print(x_test_binary.shape)"
   ]
  },
  {
   "cell_type": "markdown",
   "metadata": {},
   "source": [
    "**Dans un premier temps nous allons essayer de trouver le K optimum donc nous allons prendre un sous ensemble de l'ensemble de test pour trouver ce K car nous allons tester notre accuracy sur ce sous ensemble pour chaque K. Prendre les 10000 images de l'ensemble de tests pour trouver le K optimum rendaient les calculs trop longs**"
   ]
  },
  {
   "cell_type": "code",
   "execution_count": null,
   "metadata": {},
   "outputs": [],
   "source": [
    "x_test_binary_small = x_test_binary[0:30, :]\n",
    "y_test_binary_small = y_test[0:30]"
   ]
  },
  {
   "cell_type": "code",
   "execution_count": null,
   "metadata": {},
   "outputs": [],
   "source": [
    "%%capture\n",
    "accuracies = []\n",
    "for k in range(1,9):\n",
    "    k_nn = knn.Knn(k)\n",
    "    preds, accuracy = k_nn.predict_euclidian_dist(x_train_binary, y_train, x_test_binary_small, y_test_binary_small)\n",
    "    accuracies.append(accuracy)"
   ]
  },
  {
   "cell_type": "code",
   "execution_count": null,
   "metadata": {},
   "outputs": [],
   "source": [
    "print(accuracies)"
   ]
  },
  {
   "cell_type": "markdown",
   "metadata": {},
   "source": [
    "**Tous les k de 1 à 9 donnent une accuracy de 1, c'est à dire que la prédiction est bonne pour chaque image**"
   ]
  },
  {
   "cell_type": "code",
   "execution_count": 11,
   "metadata": {},
   "outputs": [],
   "source": [
    "x_test_binary_small = x_test_binary[0:1000, :]\n",
    "y_test_binary_small = y_test[0:1000]"
   ]
  },
  {
   "cell_type": "code",
   "execution_count": null,
   "metadata": {},
   "outputs": [],
   "source": [
    "%%capture\n",
    "k_nn = knn.Knn(1)\n",
    "predictions, accuracy = k_nn.predict_euclidian_dist(x_train_binary, y_train, x_test_binary_small, y_test_binary_small)"
   ]
  },
  {
   "cell_type": "markdown",
   "metadata": {},
   "source": [
    "**On affiche 10 prédictions sur les images de test**"
   ]
  },
  {
   "cell_type": "code",
   "execution_count": null,
   "metadata": {},
   "outputs": [],
   "source": [
    "# On affiche 10 prédictions sur les images de test\n",
    "fig, axes = plt.subplots(ncols=10, sharex=False,\n",
    "\t\t\t sharey=True, figsize=(20, 4))\n",
    "for i in range(10):\n",
    "\taxes[i].set_title(predictions[i])\n",
    "\taxes[i].imshow(X_test[i], cmap='gray')\n",
    "\taxes[i].get_xaxis().set_visible(False)\n",
    "\taxes[i].get_yaxis().set_visible(False)\n",
    "plt.show()"
   ]
  },
  {
   "cell_type": "markdown",
   "metadata": {},
   "source": [
    "# 2) représentation freeman et distance de Levenshtein"
   ]
  },
  {
   "cell_type": "code",
   "execution_count": null,
   "metadata": {},
   "outputs": [],
   "source": [
    "import knn"
   ]
  },
  {
   "cell_type": "markdown",
   "metadata": {},
   "source": [
    "**4000 images pour l'entrainement et on test sur 4 images**"
   ]
  },
  {
   "cell_type": "code",
   "execution_count": null,
   "metadata": {},
   "outputs": [],
   "source": [
    "%%capture\n",
    "k_nn = knn.Knn(6)\n",
    "predictions, accuracy = k_nn.predict_freeman_edit_distance(4000, 4)"
   ]
  },
  {
   "cell_type": "code",
   "execution_count": null,
   "metadata": {},
   "outputs": [],
   "source": [
    "print(accuracy)"
   ]
  },
  {
   "cell_type": "code",
   "execution_count": null,
   "metadata": {},
   "outputs": [],
   "source": [
    "# On affiche 10 prédictions sur les images de test\n",
    "fig, axes = plt.subplots(ncols=10, sharex=False,\n",
    "\t\t\t sharey=True, figsize=(20, 4))\n",
    "for i in range(10):\n",
    "\taxes[i].set_title(predictions[i])\n",
    "\taxes[i].imshow(X_test[i], cmap='gray')\n",
    "\taxes[i].get_xaxis().set_visible(False)\n",
    "\taxes[i].get_yaxis().set_visible(False)\n",
    "plt.show()"
   ]
  },
  {
   "cell_type": "markdown",
   "metadata": {},
   "source": [
    "**Dommage pas eu le temps d'optimiser pour différents K**"
   ]
  }
 ],
 "metadata": {
  "kernelspec": {
   "display_name": "Python 3",
   "language": "python",
   "name": "python3"
  },
  "language_info": {
   "codemirror_mode": {
    "name": "ipython",
    "version": 3
   },
   "file_extension": ".py",
   "mimetype": "text/x-python",
   "name": "python",
   "nbconvert_exporter": "python",
   "pygments_lexer": "ipython3",
   "version": "3.6.10"
  }
 },
 "nbformat": 4,
 "nbformat_minor": 4
}
