{
 "cells": [
  {
   "cell_type": "markdown",
   "metadata": {},
   "source": [
    "# Neural Network"
   ]
  },
  {
   "cell_type": "code",
   "execution_count": 1,
   "metadata": {},
   "outputs": [],
   "source": [
    "import numpy as np\n",
    "import matplotlib.pyplot as plt\n",
    "from keras.layers import Dense, Flatten\n",
    "from keras.models import Sequential\n",
    "from tensorflow.keras.utils import to_categorical\n",
    "from keras.datasets import mnist\n",
    "from keras.layers import Conv2D, MaxPooling2D,Dropout\n",
    "import freeman"
   ]
  },
  {
   "cell_type": "markdown",
   "metadata": {},
   "source": [
    "**On load le dataset MNIST qui comporte 70000 images au format 28*28 pixels.\n",
    "On divise le dataset avec 85 % des images pour les données d'entrainements et 15 pourcent des images pour les données de test**"
   ]
  },
  {
   "cell_type": "code",
   "execution_count": 11,
   "metadata": {},
   "outputs": [
    {
     "name": "stdout",
     "output_type": "stream",
     "text": [
      "(60000, 28, 28, 1)\n"
     ]
    }
   ],
   "source": [
    "(x_train, y_train), (x_test, y_test) = mnist.load_data()\n",
    "print(X_train.shape)"
   ]
  },
  {
   "cell_type": "markdown",
   "metadata": {},
   "source": [
    "**on convertit les images en matrices de piexl de 0 et 1**\n"
   ]
  },
  {
   "cell_type": "code",
   "execution_count": 12,
   "metadata": {},
   "outputs": [
    {
     "name": "stdout",
     "output_type": "stream",
     "text": [
      "(60000, 28, 28)\n",
      "(10000, 28, 28)\n"
     ]
    }
   ],
   "source": [
    "X_train = freeman.convert_binary(x_train)\n",
    "X_test = freeman.convert_binary(x_test)\n",
    "print(X_train.shape)\n",
    "print(X_test.shape)"
   ]
  },
  {
   "cell_type": "markdown",
   "metadata": {},
   "source": [
    "**On ajoute une dimension qui ne change pas les données pour pouvoir utiliser les données avec Tensorflow**"
   ]
  },
  {
   "cell_type": "code",
   "execution_count": 4,
   "metadata": {},
   "outputs": [],
   "source": [
    "X_train = X_train.reshape(-1, 28, 28, 1)\n",
    "X_test = X_test.reshape(-1, 28, 28, 1)"
   ]
  },
  {
   "cell_type": "code",
   "execution_count": 5,
   "metadata": {},
   "outputs": [],
   "source": [
    "# Convert y_train into one-hot format \n",
    "temp = []\n",
    "for i in range(len(y_train)):\n",
    "    temp.append(to_categorical(y_train[i], num_classes=10))\n",
    "\n",
    "y_train = np.array(temp)\n",
    "\n",
    "# Convert y_test into one-hot format \n",
    "temp = []\n",
    "for i in range(len(y_test)):\n",
    "    temp.append(to_categorical(y_test[i], num_classes=10))\n",
    "\n",
    "y_test = np.array(temp)"
   ]
  },
  {
   "cell_type": "markdown",
   "metadata": {},
   "source": [
    "**Définition du modèle choisi pour le réseau :**\n",
    "\n",
    "**-on créer deux couches successives de Convolution/Sampling avec du max pooling pour tenter de reconnaitre les patterns propre a la reconnaissance de chiffre.**\n",
    "\n",
    "**-On va ensuite réduire en un vecteur d'une dimension les sorties résultantes du second max pooling avec la couche \"flatten\" pour pouvoir passer toute les entrées à la dernière couche qui n'est autre qu'un classique mlp à 10 sorties.**"
   ]
  },
  {
   "cell_type": "code",
   "execution_count": 6,
   "metadata": {},
   "outputs": [
    {
     "name": "stdout",
     "output_type": "stream",
     "text": [
      "Model: \"sequential\"\n",
      "_________________________________________________________________\n",
      "Layer (type)                 Output Shape              Param #   \n",
      "=================================================================\n",
      "conv2d (Conv2D)              (None, 28, 28, 64)        640       \n",
      "_________________________________________________________________\n",
      "max_pooling2d (MaxPooling2D) (None, 14, 14, 64)        0         \n",
      "_________________________________________________________________\n",
      "conv2d_1 (Conv2D)            (None, 14, 14, 64)        36928     \n",
      "_________________________________________________________________\n",
      "max_pooling2d_1 (MaxPooling2 (None, 7, 7, 64)          0         \n",
      "_________________________________________________________________\n",
      "flatten (Flatten)            (None, 3136)              0         \n",
      "_________________________________________________________________\n",
      "dropout (Dropout)            (None, 3136)              0         \n",
      "_________________________________________________________________\n",
      "dense (Dense)                (None, 10)                31370     \n",
      "=================================================================\n",
      "Total params: 68,938\n",
      "Trainable params: 68,938\n",
      "Non-trainable params: 0\n",
      "_________________________________________________________________\n"
     ]
    }
   ],
   "source": [
    "model = Sequential()\n",
    "model.add(Conv2D(64, (3, 3), input_shape=(28, 28, 1), padding='same', activation='relu'))\n",
    "model.add(MaxPooling2D(pool_size=(2,2), strides=(2,2)))\n",
    "model.add(Conv2D(64, (3, 3), padding='same', activation='relu'))\n",
    "model.add(MaxPooling2D(pool_size=(2,2), strides=(2,2)))\n",
    "model.add(Flatten())\n",
    "model.output_shape\n",
    "model.add(Dropout(0.25))\n",
    "model.add(Dense(10, activation='softmax'))\n",
    "model.summary()\n",
    "\n",
    "model.compile(loss='categorical_crossentropy',optimizer='adam',metrics=['acc'])"
   ]
  },
  {
   "cell_type": "markdown",
   "metadata": {},
   "source": [
    "**On entraine le modèle obtenu**"
   ]
  },
  {
   "cell_type": "code",
   "execution_count": 7,
   "metadata": {},
   "outputs": [
    {
     "name": "stdout",
     "output_type": "stream",
     "text": [
      "Epoch 1/5\n",
      "1875/1875 [==============================] - 55s 29ms/step - loss: 0.1767 - acc: 0.9452 - val_loss: 0.0666 - val_acc: 0.9787\n",
      "Epoch 2/5\n",
      "1875/1875 [==============================] - 57s 30ms/step - loss: 0.0693 - acc: 0.9785 - val_loss: 0.0449 - val_acc: 0.9849\n",
      "Epoch 3/5\n",
      "1875/1875 [==============================] - 54s 29ms/step - loss: 0.0541 - acc: 0.9830 - val_loss: 0.0447 - val_acc: 0.9852\n",
      "Epoch 4/5\n",
      "1875/1875 [==============================] - 55s 29ms/step - loss: 0.0439 - acc: 0.9857 - val_loss: 0.0347 - val_acc: 0.9882\n",
      "Epoch 5/5\n",
      "1875/1875 [==============================] - 56s 30ms/step - loss: 0.0373 - acc: 0.9881 - val_loss: 0.0455 - val_acc: 0.9850\n"
     ]
    },
    {
     "data": {
      "text/plain": [
       "<keras.callbacks.History at 0x7fd58e9d5cc0>"
      ]
     },
     "execution_count": 7,
     "metadata": {},
     "output_type": "execute_result"
    }
   ],
   "source": [
    "model.fit(X_train, y_train, epochs=5, validation_data=(X_test,y_test))\n",
    "# On enregistre le modèle entrainé dans un fichier pour pouvoir le réutiliser dans l'interface graphique\n",
    "model.save(\"digit_recognition_binary.h5\")"
   ]
  },
  {
   "cell_type": "markdown",
   "metadata": {},
   "source": [
    "**On test le modèle sur l'ensemble de test**"
   ]
  },
  {
   "cell_type": "code",
   "execution_count": 9,
   "metadata": {},
   "outputs": [],
   "source": [
    "# Making predictions using our trained model\n",
    "predictions = model.predict(X_test)\n",
    "predictions = np.argmax(predictions, axis=1)"
   ]
  },
  {
   "cell_type": "markdown",
   "metadata": {},
   "source": [
    "**On affiche 10 prédictions sur les images de test**"
   ]
  },
  {
   "cell_type": "code",
   "execution_count": 14,
   "metadata": {},
   "outputs": [
    {
     "data": {
      "image/png": "[encoded data removed]",
      "text/plain": [
       "<Figure size 1440x288 with 10 Axes>"
      ]
     },
     "metadata": {
      "needs_background": "light"
     },
     "output_type": "display_data"
    }
   ],
   "source": [
    "# On affiche 10 prédictions sur les images de test\n",
    "fig, axes = plt.subplots(ncols=10, sharex=False,\n",
    "\t\t\t sharey=True, figsize=(20, 4))\n",
    "for i in range(10):\n",
    "\taxes[i].set_title(predictions[i])\n",
    "\taxes[i].imshow(X_test[i], cmap='gray')\n",
    "\taxes[i].get_xaxis().set_visible(False)\n",
    "\taxes[i].get_yaxis().set_visible(False)\n",
    "plt.show()"
   ]
  }
 ],
 "metadata": {
  "kernelspec": {
   "display_name": "Python 3",
   "language": "python",
   "name": "python3"
  },
  "language_info": {
   "codemirror_mode": {
    "name": "ipython",
    "version": 3
   },
   "file_extension": ".py",
   "mimetype": "text/x-python",
   "name": "python",
   "nbconvert_exporter": "python",
   "pygments_lexer": "ipython3",
   "version": "3.6.10"
  }
 },
 "nbformat": 4,
 "nbformat_minor": 4
}
